{
 "cells": [
  {
   "cell_type": "code",
   "execution_count": 19,
   "metadata": {},
   "outputs": [],
   "source": [
    "def stringArchivos_toList(estado):\n",
    "    # Crea una lista con 12 strings, para las 12 baterias en un estado\n",
    "    # Cada string es el nombre de de un archivo txt\n",
    "    \n",
    "    lista_nombres = []      # crear lista vacia\n",
    "    nombre_base = \"EIS_state_\"      # primera parte del nombre\n",
    "    # State X_25C0i\n",
    "    for i in range (1,9):   # agregar segunda parte para 25 °C\n",
    "        nombre_armar = nombre_base+estado+\"_25C0\" + str(i)\n",
    "        lista_nombres.append(nombre_armar)\n",
    "\n",
    "    # State X_350Ci\n",
    "    for i in range (1,3):   # agregar segunda parte para 25 °C\n",
    "        nombre_armar = nombre_base + estado + \"_35C0\" + str(i)\n",
    "        lista_nombres.append(nombre_armar)\n",
    "\n",
    "    # State X_450Ci\n",
    "    for i in range (1,3):   # agregar segunda parte para 25 °C\n",
    "        nombre_armar = nombre_base + estado + \"_45C0\" + str(i)\n",
    "        lista_nombres.append(nombre_armar)\n",
    "\n",
    "    return lista_nombres"
   ]
  },
  {
   "cell_type": "code",
   "execution_count": 30,
   "metadata": {},
   "outputs": [],
   "source": [
    "# Crear 6 listas con los nombres de archivos de cada estado como string\n",
    "# Estos 6 estados son los cuales tienen sus archivos regulares, es decir,\n",
    "# Tienen 8 baterias para 25°C, 2 baterias para 35°C y 2 baterias para 45°C\n",
    "lista_stateI = stringArchivos_toList(\"I\")\n",
    "lista_stateII = stringArchivos_toList(\"II\")\n",
    "lista_stateIII = stringArchivos_toList(\"III\")\n",
    "lista_stateIV = stringArchivos_toList(\"IV\")\n",
    "lista_stateIX = stringArchivos_toList(\"IX\")\n",
    "lista_stateV = stringArchivos_toList(\"V\")"
   ]
  },
  {
   "cell_type": "code",
   "execution_count": 34,
   "metadata": {},
   "outputs": [
    {
     "name": "stdout",
     "output_type": "stream",
     "text": [
      "12\n",
      "12\n",
      "12\n",
      "12\n",
      "12\n",
      "12\n"
     ]
    }
   ],
   "source": [
    "# Check de las listas creadas\n",
    "print(len(lista_stateII))\n",
    "print(len(lista_stateII))\n",
    "print(len(lista_stateIII))\n",
    "print(len(lista_stateIV))\n",
    "print(len(lista_stateIX))\n",
    "print(len(lista_stateV))"
   ]
  },
  {
   "cell_type": "code",
   "execution_count": 37,
   "metadata": {},
   "outputs": [],
   "source": [
    "# Se crea una septima lista con todos los strings de archivos restantes\n",
    "nombre_base = \"EIS_state_\"\n",
    "lista_nombres = []\n",
    "nombre_armar = \"\"\n",
    "\n",
    "# A partir del nombre base se crean los nuevos stirngs\n",
    "\n",
    "### ESTADO VI\n",
    "# State VI 25 Ci\n",
    "lista_nombres.append(nombre_base+\"VI\"+\"_25C01\")\n",
    "lista_nombres.append(nombre_base+\"VI\"+\"_25C02\")\n",
    "lista_nombres.append(nombre_base+\"VI\"+\"_25C03\")\n",
    "lista_nombres.append(nombre_base+\"VI\"+\"_25C05\")\n",
    "lista_nombres.append(nombre_base+\"VI\"+\"_25C06\")\n",
    "lista_nombres.append(nombre_base+\"VI\"+\"_25C07\")\n",
    "lista_nombres.append(nombre_base+\"VI\"+\"_25C08\")\n",
    "lista_nombres.append(nombre_base+\"VI\"+\"_25C42\")\n",
    "\n",
    "\n",
    "## ESTADO VII\n",
    "lista_nombres.append(nombre_base+\"VII\"+\"_25C04\")\n",
    "lista_nombres.append(nombre_base+\"VII\"+\"_25C06\")\n",
    "lista_nombres.append(nombre_base+\"VII\"+\"_25C07\")\n",
    "lista_nombres.append(nombre_base+\"VII\"+\"_25C08\")\n",
    "\n",
    "## ESTADO VIII\n",
    "# State VI_35 Ci\n",
    "lista_nombres.append(nombre_base+\"VIII\"+\"_25C04\")\n",
    "lista_nombres.append(nombre_base+\"VIII\"+\"_25C06\")\n",
    "lista_nombres.append(nombre_base+\"VIII\"+\"_25C07\")\n",
    "lista_nombres.append(nombre_base+\"VIII\"+\"_25C08\")\n"
   ]
  },
  {
   "cell_type": "code",
   "execution_count": 38,
   "metadata": {},
   "outputs": [
    {
     "name": "stdout",
     "output_type": "stream",
     "text": [
      "16\n"
     ]
    }
   ],
   "source": [
    "# Check de la ultima lista creada\n",
    "print(len(lista_nombres))"
   ]
  },
  {
   "cell_type": "code",
   "execution_count": 39,
   "metadata": {},
   "outputs": [
    {
     "name": "stdout",
     "output_type": "stream",
     "text": [
      "88\n",
      "['EIS_state_I_25C01', 'EIS_state_I_25C02', 'EIS_state_I_25C03', 'EIS_state_I_25C04', 'EIS_state_I_25C05', 'EIS_state_I_25C06', 'EIS_state_I_25C07', 'EIS_state_I_25C08', 'EIS_state_I_35C01', 'EIS_state_I_35C02', 'EIS_state_I_45C01', 'EIS_state_I_45C02', 'EIS_state_II_25C01', 'EIS_state_II_25C02', 'EIS_state_II_25C03', 'EIS_state_II_25C04', 'EIS_state_II_25C05', 'EIS_state_II_25C06', 'EIS_state_II_25C07', 'EIS_state_II_25C08', 'EIS_state_II_35C01', 'EIS_state_II_35C02', 'EIS_state_II_45C01', 'EIS_state_II_45C02', 'EIS_state_III_25C01', 'EIS_state_III_25C02', 'EIS_state_III_25C03', 'EIS_state_III_25C04', 'EIS_state_III_25C05', 'EIS_state_III_25C06', 'EIS_state_III_25C07', 'EIS_state_III_25C08', 'EIS_state_III_35C01', 'EIS_state_III_35C02', 'EIS_state_III_45C01', 'EIS_state_III_45C02', 'EIS_state_IV_25C01', 'EIS_state_IV_25C02', 'EIS_state_IV_25C03', 'EIS_state_IV_25C04', 'EIS_state_IV_25C05', 'EIS_state_IV_25C06', 'EIS_state_IV_25C07', 'EIS_state_IV_25C08', 'EIS_state_IV_35C01', 'EIS_state_IV_35C02', 'EIS_state_IV_45C01', 'EIS_state_IV_45C02', 'EIS_state_IX_25C01', 'EIS_state_IX_25C02', 'EIS_state_IX_25C03', 'EIS_state_IX_25C04', 'EIS_state_IX_25C05', 'EIS_state_IX_25C06', 'EIS_state_IX_25C07', 'EIS_state_IX_25C08', 'EIS_state_IX_35C01', 'EIS_state_IX_35C02', 'EIS_state_IX_45C01', 'EIS_state_IX_45C02', 'EIS_state_V_25C01', 'EIS_state_V_25C02', 'EIS_state_V_25C03', 'EIS_state_V_25C04', 'EIS_state_V_25C05', 'EIS_state_V_25C06', 'EIS_state_V_25C07', 'EIS_state_V_25C08', 'EIS_state_V_35C01', 'EIS_state_V_35C02', 'EIS_state_V_45C01', 'EIS_state_V_45C02', 'EIS_state_VI_25C01', 'EIS_state_VI_25C02', 'EIS_state_VI_25C03', 'EIS_state_VI_25C05', 'EIS_state_VI_25C06', 'EIS_state_VI_25C07', 'EIS_state_VI_25C08', 'EIS_state_VI_25C42', 'EIS_state_VII_25C04', 'EIS_state_VII_25C06', 'EIS_state_VII_25C07', 'EIS_state_VII_25C08', 'EIS_state_VIII_25C04', 'EIS_state_VIII_25C06', 'EIS_state_VIII_25C07', 'EIS_state_VIII_25C08']\n"
     ]
    }
   ],
   "source": [
    "# Todas las listas se concatenan en una unica\n",
    "listArchivos = (lista_stateI\n",
    "                +lista_stateII\n",
    "                +lista_stateIII\n",
    "                +lista_stateIV\n",
    "                +lista_stateIX\n",
    "                +lista_stateV\n",
    "                +lista_nombres\n",
    ")\n",
    "# Check de la ultima lista\n",
    "print(len(listArchivos))\n",
    "print(listArchivos)"
   ]
  },
  {
   "cell_type": "code",
   "execution_count": 40,
   "metadata": {},
   "outputs": [
    {
     "name": "stdout",
     "output_type": "stream",
     "text": [
      "Se ha creado el archivo EIS_state_I_25C01.csv con éxito.\n",
      "Se ha creado el archivo EIS_state_I_25C02.csv con éxito.\n",
      "Se ha creado el archivo EIS_state_I_25C03.csv con éxito.\n",
      "Se ha creado el archivo EIS_state_I_25C04.csv con éxito.\n",
      "Se ha creado el archivo EIS_state_I_25C05.csv con éxito.\n",
      "Se ha creado el archivo EIS_state_I_25C06.csv con éxito.\n",
      "Se ha creado el archivo EIS_state_I_25C07.csv con éxito.\n",
      "Se ha creado el archivo EIS_state_I_25C08.csv con éxito.\n",
      "Se ha creado el archivo EIS_state_I_35C01.csv con éxito.\n",
      "Se ha creado el archivo EIS_state_I_35C02.csv con éxito.\n",
      "Se ha creado el archivo EIS_state_I_45C01.csv con éxito.\n",
      "Se ha creado el archivo EIS_state_I_45C02.csv con éxito.\n",
      "Se ha creado el archivo EIS_state_II_25C01.csv con éxito.\n",
      "Se ha creado el archivo EIS_state_II_25C02.csv con éxito.\n",
      "Se ha creado el archivo EIS_state_II_25C03.csv con éxito.\n",
      "Se ha creado el archivo EIS_state_II_25C04.csv con éxito.\n",
      "Se ha creado el archivo EIS_state_II_25C05.csv con éxito.\n",
      "Se ha creado el archivo EIS_state_II_25C06.csv con éxito.\n",
      "Se ha creado el archivo EIS_state_II_25C07.csv con éxito.\n",
      "Se ha creado el archivo EIS_state_II_25C08.csv con éxito.\n",
      "Se ha creado el archivo EIS_state_II_35C01.csv con éxito.\n",
      "Se ha creado el archivo EIS_state_II_35C02.csv con éxito.\n",
      "Se ha creado el archivo EIS_state_II_45C01.csv con éxito.\n",
      "Se ha creado el archivo EIS_state_II_45C02.csv con éxito.\n",
      "Se ha creado el archivo EIS_state_III_25C01.csv con éxito.\n",
      "Se ha creado el archivo EIS_state_III_25C02.csv con éxito.\n",
      "Se ha creado el archivo EIS_state_III_25C03.csv con éxito.\n",
      "Se ha creado el archivo EIS_state_III_25C04.csv con éxito.\n",
      "Se ha creado el archivo EIS_state_III_25C05.csv con éxito.\n",
      "Se ha creado el archivo EIS_state_III_25C06.csv con éxito.\n",
      "Se ha creado el archivo EIS_state_III_25C07.csv con éxito.\n",
      "Se ha creado el archivo EIS_state_III_25C08.csv con éxito.\n",
      "Se ha creado el archivo EIS_state_III_35C01.csv con éxito.\n",
      "Se ha creado el archivo EIS_state_III_35C02.csv con éxito.\n",
      "Se ha creado el archivo EIS_state_III_45C01.csv con éxito.\n",
      "Se ha creado el archivo EIS_state_III_45C02.csv con éxito.\n",
      "Se ha creado el archivo EIS_state_IV_25C01.csv con éxito.\n",
      "Se ha creado el archivo EIS_state_IV_25C02.csv con éxito.\n",
      "Se ha creado el archivo EIS_state_IV_25C03.csv con éxito.\n",
      "Se ha creado el archivo EIS_state_IV_25C04.csv con éxito.\n",
      "Se ha creado el archivo EIS_state_IV_25C05.csv con éxito.\n",
      "Se ha creado el archivo EIS_state_IV_25C06.csv con éxito.\n",
      "Se ha creado el archivo EIS_state_IV_25C07.csv con éxito.\n",
      "Se ha creado el archivo EIS_state_IV_25C08.csv con éxito.\n",
      "Se ha creado el archivo EIS_state_IV_35C01.csv con éxito.\n",
      "Se ha creado el archivo EIS_state_IV_35C02.csv con éxito.\n",
      "Se ha creado el archivo EIS_state_IV_45C01.csv con éxito.\n",
      "Se ha creado el archivo EIS_state_IV_45C02.csv con éxito.\n",
      "Se ha creado el archivo EIS_state_IX_25C01.csv con éxito.\n",
      "Se ha creado el archivo EIS_state_IX_25C02.csv con éxito.\n",
      "Se ha creado el archivo EIS_state_IX_25C03.csv con éxito.\n",
      "Se ha creado el archivo EIS_state_IX_25C04.csv con éxito.\n",
      "Se ha creado el archivo EIS_state_IX_25C05.csv con éxito.\n",
      "Se ha creado el archivo EIS_state_IX_25C06.csv con éxito.\n",
      "Se ha creado el archivo EIS_state_IX_25C07.csv con éxito.\n",
      "Se ha creado el archivo EIS_state_IX_25C08.csv con éxito.\n",
      "Se ha creado el archivo EIS_state_IX_35C01.csv con éxito.\n",
      "Se ha creado el archivo EIS_state_IX_35C02.csv con éxito.\n",
      "Se ha creado el archivo EIS_state_IX_45C01.csv con éxito.\n",
      "Se ha creado el archivo EIS_state_IX_45C02.csv con éxito.\n",
      "Se ha creado el archivo EIS_state_V_25C01.csv con éxito.\n",
      "Se ha creado el archivo EIS_state_V_25C02.csv con éxito.\n",
      "Se ha creado el archivo EIS_state_V_25C03.csv con éxito.\n",
      "Se ha creado el archivo EIS_state_V_25C04.csv con éxito.\n",
      "Se ha creado el archivo EIS_state_V_25C05.csv con éxito.\n",
      "Se ha creado el archivo EIS_state_V_25C06.csv con éxito.\n",
      "Se ha creado el archivo EIS_state_V_25C07.csv con éxito.\n",
      "Se ha creado el archivo EIS_state_V_25C08.csv con éxito.\n",
      "Se ha creado el archivo EIS_state_V_35C01.csv con éxito.\n",
      "Se ha creado el archivo EIS_state_V_35C02.csv con éxito.\n",
      "Se ha creado el archivo EIS_state_V_45C01.csv con éxito.\n",
      "Se ha creado el archivo EIS_state_V_45C02.csv con éxito.\n",
      "Se ha creado el archivo EIS_state_VI_25C01.csv con éxito.\n",
      "Se ha creado el archivo EIS_state_VI_25C02.csv con éxito.\n",
      "Se ha creado el archivo EIS_state_VI_25C03.csv con éxito.\n",
      "Se ha creado el archivo EIS_state_VI_25C05.csv con éxito.\n",
      "Se ha creado el archivo EIS_state_VI_25C06.csv con éxito.\n",
      "Se ha creado el archivo EIS_state_VI_25C07.csv con éxito.\n",
      "Se ha creado el archivo EIS_state_VI_25C08.csv con éxito.\n",
      "Se ha creado el archivo EIS_state_VI_25C42.csv con éxito.\n",
      "Se ha creado el archivo EIS_state_VII_25C04.csv con éxito.\n",
      "Se ha creado el archivo EIS_state_VII_25C06.csv con éxito.\n",
      "Se ha creado el archivo EIS_state_VII_25C07.csv con éxito.\n",
      "Se ha creado el archivo EIS_state_VII_25C08.csv con éxito.\n",
      "Se ha creado el archivo EIS_state_VIII_25C04.csv con éxito.\n",
      "Se ha creado el archivo EIS_state_VIII_25C06.csv con éxito.\n",
      "Se ha creado el archivo EIS_state_VIII_25C07.csv con éxito.\n",
      "Se ha creado el archivo EIS_state_VIII_25C08.csv con éxito.\n"
     ]
    }
   ],
   "source": [
    "# Crear archivo CSV\n",
    "# Toma los archivos txt presentes en la carpeta y reemplaza\n",
    "# los espacios por comas. De esta forma es más fácil crear\n",
    "# un DataFrame con pandas.\n",
    "# Código creado con ChatGPT\n",
    "\n",
    "import csv\n",
    "\n",
    "# Se itera 88 veces\n",
    "for name in listArchivos:\n",
    "    # Ruta del archivo de texto con los datos\n",
    "    input_file = name+\".txt\"\n",
    "\n",
    "    # Leer los datos del archivo de texto\n",
    "    data = []\n",
    "    with open(input_file, 'r') as file:\n",
    "        # Saltar la primera línea (encabezados)\n",
    "        next(file)\n",
    "        for line in file:\n",
    "            # Separar los valores por espacios y convertirlos a números\n",
    "            values = [float(val) for val in line.split()]\n",
    "            data.append(values)\n",
    "\n",
    "    # Nombre del archivo de salida\n",
    "    output_file = name+\".csv\"\n",
    "\n",
    "    # Escribir los datos en el archivo CSV\n",
    "    with open(output_file, mode='w', newline='') as file:\n",
    "        writer = csv.writer(file)\n",
    "        writer.writerow([\"time/s\", \"cycle number\", \"freq/Hz\", \"Re(Z)/Ohm\", \"-Im(Z)/Ohm\", \"|Z|/Ohm\", \"Phase(Z)/deg\"])\n",
    "        writer.writerows(data)\n",
    "\n",
    "    print(f\"Se ha creado el archivo {output_file} con éxito.\")"
   ]
  },
  {
   "cell_type": "code",
   "execution_count": null,
   "metadata": {},
   "outputs": [],
   "source": [
    "# Crear archivo CSV\n",
    "# Toma los archivos txt presentes en la carpeta y reemplaza\n",
    "# los espacios por comas. De esta forma es más fácil crear\n",
    "# un DataFrame con pandas.\n",
    "# Código creado con ChatGPT\n",
    "\n",
    "import csv\n",
    "\n",
    "# Ruta del archivo de texto con los datos\n",
    "input_file = \"EIS_state_I_25C01.txt\"\n",
    "\n",
    "# Leer los datos del archivo de texto\n",
    "data = []\n",
    "with open(input_file, 'r') as file:\n",
    "    # Saltar la primera línea (encabezados)\n",
    "    next(file)\n",
    "    for line in file:\n",
    "        # Separar los valores por espacios y convertirlos a números\n",
    "        values = [float(val) for val in line.split()]\n",
    "        data.append(values)\n",
    "\n",
    "# Nombre del archivo de salida\n",
    "output_file = \"algo.csv\"\n",
    "\n",
    "# Escribir los datos en el archivo CSV\n",
    "with open(output_file, mode='w', newline='') as file:\n",
    "    writer = csv.writer(file)\n",
    "    writer.writerow([\"time/s\", \"cycle number\", \"freq/Hz\", \"Re(Z)/Ohm\", \"-Im(Z)/Ohm\", \"|Z|/Ohm\", \"Phase(Z)/deg\"])\n",
    "    writer.writerows(data)\n",
    "\n",
    "print(f\"Se ha creado el archivo {output_file} con éxito.\")"
   ]
  },
  {
   "cell_type": "code",
   "execution_count": 24,
   "metadata": {},
   "outputs": [
    {
     "name": "stdout",
     "output_type": "stream",
     "text": [
      "['EIS_state_I_25C01', 'EIS_state_I_25C02', 'EIS_state_I_25C03', 'EIS_state_I_25C04', 'EIS_state_I_25C05', 'EIS_state_I_25C06', 'EIS_state_I_25C07', 'EIS_state_I_25C08', 'EIS_state_I_35C01', 'EIS_state_I_35C02', 'EIS_state_I_45C01', 'EIS_state_I_45C02', 'EIS_state_II_25C01', 'EIS_state_II_25C02', 'EIS_state_II_25C03', 'EIS_state_II_25C04', 'EIS_state_II_25C05', 'EIS_state_II_25C06', 'EIS_state_II_25C07', 'EIS_state_II_25C08', 'EIS_state_II_35C01', 'EIS_state_II_35C02', 'EIS_state_II_45C01', 'EIS_state_II_45C02', 'EIS_state_III_25C01', 'EIS_state_III_25C02', 'EIS_state_III_25C03', 'EIS_state_III_25C04', 'EIS_state_III_25C05', 'EIS_state_III_25C06', 'EIS_state_III_25C07', 'EIS_state_III_25C08', 'EIS_state_III_35C01', 'EIS_state_III_35C02', 'EIS_state_III_45C01', 'EIS_state_III_45C02', 'EIS_state_IV_25C01', 'EIS_state_IV_25C02', 'EIS_state_IV_25C03', 'EIS_state_IV_25C04', 'EIS_state_IV_25C05', 'EIS_state_IV_25C06', 'EIS_state_IV_25C07', 'EIS_state_IV_25C08', 'EIS_state_IV_35C01', 'EIS_state_IV_35C02', 'EIS_state_IV_45C01', 'EIS_state_IV_45C02', 'EIS_state_IX_25C01', 'EIS_state_IX_25C02', 'EIS_state_IX_25C03', 'EIS_state_IX_25C04', 'EIS_state_IX_25C05', 'EIS_state_IX_25C06', 'EIS_state_IX_25C07', 'EIS_state_IX_25C08', 'EIS_state_IX_35C01', 'EIS_state_IX_35C02', 'EIS_state_IX_45C01', 'EIS_state_IX_45C02', 'EIS_state_V_25C01', 'EIS_state_V_25C02', 'EIS_state_V_25C03', 'EIS_state_V_25C04', 'EIS_state_V_25C05', 'EIS_state_V_25C06', 'EIS_state_V_25C07', 'EIS_state_V_25C08', 'EIS_state_V_35C01', 'EIS_state_V_35C02', 'EIS_state_V_45C01', 'EIS_state_V_45C02', 'EIS_state_VI_25C01', 'EIS_state_VI_25C02', 'EIS_state_VI_25C03', 'EIS_state_VI_25C05', 'EIS_state_VI_25C06', 'EIS_state_VI_25C07', 'EIS_state_VI_25C08 ', 'EIS_state_VII_25C04', 'EIS_state_VII_25C06', 'EIS_state_VII_25C07', 'EIS_state_VII_25C08', 'EIS_state_VIII_25C04', 'EIS_state_VIII_25C06', 'EIS_state_VIII_25C07', 'EIS_state_VIII_25C08']\n"
     ]
    }
   ],
   "source": [
    "print(listArchivos)"
   ]
  },
  {
   "cell_type": "code",
   "execution_count": 2,
   "metadata": {},
   "outputs": [
    {
     "data": {
      "text/html": [
       "<div>\n",
       "<style scoped>\n",
       "    .dataframe tbody tr th:only-of-type {\n",
       "        vertical-align: middle;\n",
       "    }\n",
       "\n",
       "    .dataframe tbody tr th {\n",
       "        vertical-align: top;\n",
       "    }\n",
       "\n",
       "    .dataframe thead th {\n",
       "        text-align: right;\n",
       "    }\n",
       "</style>\n",
       "<table border=\"1\" class=\"dataframe\">\n",
       "  <thead>\n",
       "    <tr style=\"text-align: right;\">\n",
       "      <th></th>\n",
       "      <th>time/s</th>\n",
       "      <th>cycle number</th>\n",
       "      <th>freq/Hz</th>\n",
       "      <th>Re(Z)/Ohm</th>\n",
       "      <th>-Im(Z)/Ohm</th>\n",
       "      <th>|Z|/Ohm</th>\n",
       "      <th>Phase(Z)/deg</th>\n",
       "    </tr>\n",
       "  </thead>\n",
       "  <tbody>\n",
       "    <tr>\n",
       "      <th>0</th>\n",
       "      <td>7520.78391</td>\n",
       "      <td>1.0</td>\n",
       "      <td>20004.4530</td>\n",
       "      <td>0.40128</td>\n",
       "      <td>-0.02956</td>\n",
       "      <td>0.40237</td>\n",
       "      <td>4.21264</td>\n",
       "    </tr>\n",
       "    <tr>\n",
       "      <th>1</th>\n",
       "      <td>7520.92691</td>\n",
       "      <td>1.0</td>\n",
       "      <td>15829.1260</td>\n",
       "      <td>0.40688</td>\n",
       "      <td>-0.01046</td>\n",
       "      <td>0.40701</td>\n",
       "      <td>1.47198</td>\n",
       "    </tr>\n",
       "    <tr>\n",
       "      <th>2</th>\n",
       "      <td>7521.06891</td>\n",
       "      <td>1.0</td>\n",
       "      <td>12516.7030</td>\n",
       "      <td>0.41389</td>\n",
       "      <td>0.00415</td>\n",
       "      <td>0.41391</td>\n",
       "      <td>-0.57420</td>\n",
       "    </tr>\n",
       "    <tr>\n",
       "      <th>3</th>\n",
       "      <td>7521.21091</td>\n",
       "      <td>1.0</td>\n",
       "      <td>9909.4424</td>\n",
       "      <td>0.42152</td>\n",
       "      <td>0.01708</td>\n",
       "      <td>0.42187</td>\n",
       "      <td>-2.31990</td>\n",
       "    </tr>\n",
       "    <tr>\n",
       "      <th>4</th>\n",
       "      <td>7521.37491</td>\n",
       "      <td>1.0</td>\n",
       "      <td>7835.4800</td>\n",
       "      <td>0.42905</td>\n",
       "      <td>0.02692</td>\n",
       "      <td>0.42990</td>\n",
       "      <td>-3.59049</td>\n",
       "    </tr>\n",
       "  </tbody>\n",
       "</table>\n",
       "</div>"
      ],
      "text/plain": [
       "       time/s  cycle number     freq/Hz  Re(Z)/Ohm  -Im(Z)/Ohm  |Z|/Ohm  \\\n",
       "0  7520.78391           1.0  20004.4530    0.40128    -0.02956  0.40237   \n",
       "1  7520.92691           1.0  15829.1260    0.40688    -0.01046  0.40701   \n",
       "2  7521.06891           1.0  12516.7030    0.41389     0.00415  0.41391   \n",
       "3  7521.21091           1.0   9909.4424    0.42152     0.01708  0.42187   \n",
       "4  7521.37491           1.0   7835.4800    0.42905     0.02692  0.42990   \n",
       "\n",
       "   Phase(Z)/deg  \n",
       "0       4.21264  \n",
       "1       1.47198  \n",
       "2      -0.57420  \n",
       "3      -2.31990  \n",
       "4      -3.59049  "
      ]
     },
     "execution_count": 2,
     "metadata": {},
     "output_type": "execute_result"
    }
   ],
   "source": [
    "import pandas as pd\n",
    "import numpy as np\n",
    "import matplotlib.pyplot as plt\n",
    "\n",
    "df = pd.read_csv(\"datos_csv.csv\",sep=',', header=0, index_col=False)\n",
    "df.head(5)"
   ]
  },
  {
   "cell_type": "code",
   "execution_count": 3,
   "metadata": {},
   "outputs": [
    {
     "data": {
      "text/plain": [
       "Text(0.5, 0, 'Re (Z)')"
      ]
     },
     "execution_count": 3,
     "metadata": {},
     "output_type": "execute_result"
    },
    {
     "data": {
      "image/png": "[encoded data removed]",
      "text/plain": [
       "<Figure size 1400x800 with 1 Axes>"
      ]
     },
     "metadata": {},
     "output_type": "display_data"
    }
   ],
   "source": [
    "reZ = df[\"Re(Z)/Ohm\"].to_list()\n",
    "imZ = df[\"-Im(Z)/Ohm\"].to_list()\n",
    "\n",
    "plt.figure(figsize=(14,8))\n",
    "\n",
    "plt.plot(reZ[0:20+1],imZ[0:20+1], marker='o', label=\"HF: 20.000 - 295 Hz \")\n",
    "plt.plot(reZ[21-1:40+1],imZ[21-1:40+1], marker='o', label=\"MF: 233 - 2,7 Hz \")\n",
    "plt.plot(reZ[41-1:60],imZ[41-1:60], marker='o', label=\"LF: 2,1 - 0,02 Hz \")\n",
    "plt.legend()\n",
    "plt.grid()\n",
    "plt.title(\"Diagrama Nyquist\")\n",
    "plt.ylabel(\"Im (Z)\")\n",
    "plt.xlabel(\"Re (Z)\")\n",
    "\n"
   ]
  },
  {
   "cell_type": "code",
   "execution_count": 12,
   "metadata": {},
   "outputs": [],
   "source": [
    "lista_re = df[\"Re(Z)/Ohm\"].to_list()\n"
   ]
  },
  {
   "cell_type": "code",
   "execution_count": 18,
   "metadata": {},
   "outputs": [
    {
     "name": "stdout",
     "output_type": "stream",
     "text": [
      "[0.40128, 0.40688, 0.41389]\n"
     ]
    }
   ],
   "source": [
    "print(lista_re[0:3])"
   ]
  },
  {
   "cell_type": "code",
   "execution_count": null,
   "metadata": {},
   "outputs": [],
   "source": []
  }
 ],
 "metadata": {
  "kernelspec": {
   "display_name": "Python 3",
   "language": "python",
   "name": "python3"
  },
  "language_info": {
   "codemirror_mode": {
    "name": "ipython",
    "version": 3
   },
   "file_extension": ".py",
   "mimetype": "text/x-python",
   "name": "python",
   "nbconvert_exporter": "python",
   "pygments_lexer": "ipython3",
   "version": "3.9.12"
  }
 },
 "nbformat": 4,
 "nbformat_minor": 2
}
