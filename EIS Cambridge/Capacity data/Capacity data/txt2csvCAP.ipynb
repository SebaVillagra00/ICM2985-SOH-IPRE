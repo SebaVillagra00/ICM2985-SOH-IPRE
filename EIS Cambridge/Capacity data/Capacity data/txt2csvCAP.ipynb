{
 "cells": [
  {
   "cell_type": "code",
   "execution_count": 4,
   "metadata": {},
   "outputs": [
    {
     "name": "stdout",
     "output_type": "stream",
     "text": [
      "Se ha creado el archivo Data_Capacity_25C01.csv con éxito.\n",
      "Se ha creado el archivo Data_Capacity_25C02.csv con éxito.\n",
      "Se ha creado el archivo Data_Capacity_25C03.csv con éxito.\n",
      "Se ha creado el archivo Data_Capacity_25C04.csv con éxito.\n",
      "Se ha creado el archivo Data_Capacity_25C05.csv con éxito.\n",
      "Se ha creado el archivo Data_Capacity_25C06.csv con éxito.\n",
      "Se ha creado el archivo Data_Capacity_25C07.csv con éxito.\n",
      "Se ha creado el archivo Data_Capacity_25C08.csv con éxito.\n",
      "Se ha creado el archivo Data_Capacity_35C01.csv con éxito.\n",
      "Se ha creado el archivo Data_Capacity_35C02.csv con éxito.\n",
      "Se ha creado el archivo Data_Capacity_45C01.csv con éxito.\n",
      "Se ha creado el archivo Data_Capacity_45C02.csv con éxito.\n"
     ]
    }
   ],
   "source": [
    "import csv\n",
    "\n",
    "nombre_base = 'Data_Capacity_'\n",
    "lista_nombres = []\n",
    "# T 25°C\n",
    "for i in range(1,9):\n",
    "    new_name = nombre_base + '25C0' + str(i)\n",
    "    lista_nombres.append(new_name)\n",
    "# T 35°C\n",
    "for i in range(1,3):\n",
    "    new_name = nombre_base + '35C0' + str(i)\n",
    "    lista_nombres.append(new_name)\n",
    "# T 45°C\n",
    "for i in range(1,3):\n",
    "    new_name = nombre_base + '45C0' + str(i) \n",
    "    lista_nombres.append(new_name)\n",
    "\n",
    "for name in lista_nombres:\n",
    "    # Ruta del archivo de texto con los datos\n",
    "    input_file = name + '.txt'\n",
    "\n",
    "    # Leer los datos del archivo de texto\n",
    "    data = []\n",
    "    with open(input_file, 'r') as file:\n",
    "        # Saltar la primera línea (encabezados)\n",
    "        next(file)\n",
    "        for line in file:\n",
    "            # Separar los valores por espacios y convertirlos a números\n",
    "            values = [float(val) if 'E' in val else val for val in line.split()]\n",
    "            data.append(values)\n",
    "\n",
    "    # Nombre del archivo de salida\n",
    "    output_file = name + '.csv'\n",
    "\n",
    "    # Escribir los datos en el archivo CSV\n",
    "    with open(output_file, mode='w', newline='') as file:\n",
    "        writer = csv.writer(file)\n",
    "        writer.writerow([\"time/s\", \"cycle number\", \"ox/red\", \"Capacity/mA.h\"])\n",
    "        writer.writerows(data)\n",
    "\n",
    "    print(f\"Se ha creado el archivo {output_file} con éxito.\")"
   ]
  },
  {
   "cell_type": "code",
   "execution_count": null,
   "metadata": {},
   "outputs": [],
   "source": []
  }
 ],
 "metadata": {
  "kernelspec": {
   "display_name": "Python 3",
   "language": "python",
   "name": "python3"
  },
  "language_info": {
   "codemirror_mode": {
    "name": "ipython",
    "version": 3
   },
   "file_extension": ".py",
   "mimetype": "text/x-python",
   "name": "python",
   "nbconvert_exporter": "python",
   "pygments_lexer": "ipython3",
   "version": "3.9.12"
  }
 },
 "nbformat": 4,
 "nbformat_minor": 2
}
